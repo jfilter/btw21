{
 "cells": [
  {
   "cell_type": "code",
   "execution_count": 1,
   "metadata": {
    "ExecuteTime": {
     "end_time": "2019-04-28T12:10:17.231652Z",
     "start_time": "2019-04-28T12:10:17.221151Z"
    }
   },
   "outputs": [],
   "source": [
    "from collections import Counter\n",
    "from pathlib import Path\n",
    "import xml.etree.ElementTree as ET\n",
    "\n",
    "import pandas as pd\n",
    "import simplemma\n",
    "import spacy\n",
    "from spacy_iwnlp import spaCyIWNLP"
   ]
  },
  {
   "cell_type": "code",
   "execution_count": 2,
   "metadata": {},
   "outputs": [],
   "source": [
    "tree = ET.parse('btw21_no_lb.xml')"
   ]
  },
  {
   "cell_type": "code",
   "execution_count": 3,
   "metadata": {},
   "outputs": [],
   "source": [
    "input_data = {}\n",
    "for child in tree.getroot():\n",
    "    li = []\n",
    "    for x in child:\n",
    "        li.append(x.text)\n",
    "    input_data[child.attrib['party'].replace('Gruene', 'Grüne')] = '. '.join(li)"
   ]
  },
  {
   "cell_type": "code",
   "execution_count": 4,
   "metadata": {},
   "outputs": [],
   "source": [
    "data = input_data.values()"
   ]
  },
  {
   "cell_type": "code",
   "execution_count": 5,
   "metadata": {
    "ExecuteTime": {
     "end_time": "2019-04-28T12:11:18.045617Z",
     "start_time": "2019-04-28T12:10:17.409714Z"
    }
   },
   "outputs": [],
   "source": [
    "nlp = spacy.load(\"de_core_news_lg\")\n",
    "iwnlp = spaCyIWNLP(lemmatizer_path='IWNLP.Lemmatizer_20181001.json')\n",
    "nlp.add_pipe(iwnlp)"
   ]
  },
  {
   "cell_type": "code",
   "execution_count": 6,
   "metadata": {},
   "outputs": [],
   "source": [
    "data = [[t for t in list(nlp(d)) if t.pos_ in ['NOUN', 'PROPN'] and str(t) != '\"'] for d in data]"
   ]
  },
  {
   "cell_type": "code",
   "execution_count": 7,
   "metadata": {},
   "outputs": [],
   "source": [
    "data = [[str(t if t._.iwnlp_lemmas is None else t._.iwnlp_lemmas[0]) for t in d] for d in data]"
   ]
  },
  {
   "cell_type": "code",
   "execution_count": 8,
   "metadata": {},
   "outputs": [],
   "source": [
    "import simplemma\n",
    "langdata = simplemma.load_data('de', 'en')\n",
    "data = [[simplemma.lemmatize(t, langdata, greedy=False) for t in d] for d in data]"
   ]
  },
  {
   "cell_type": "code",
   "execution_count": 9,
   "metadata": {},
   "outputs": [],
   "source": [
    "data = [[t.replace('Mitgliedsstaat', 'Mitgliedstaat').replace('Elter', 'Eltern') for t in d] for d in data]"
   ]
  },
  {
   "cell_type": "code",
   "execution_count": 10,
   "metadata": {
    "ExecuteTime": {
     "end_time": "2019-04-28T12:11:41.404199Z",
     "start_time": "2019-04-28T12:11:41.387766Z"
    }
   },
   "outputs": [],
   "source": [
    "cs = [Counter(d) for d in data]"
   ]
  },
  {
   "cell_type": "code",
   "execution_count": 11,
   "metadata": {
    "ExecuteTime": {
     "end_time": "2019-04-28T12:11:41.512634Z",
     "start_time": "2019-04-28T12:11:41.507224Z"
    }
   },
   "outputs": [],
   "source": [
    "exclude = ['AfD', 'CDU', 'LINKE', 'SPD', '%', 'Demokrat', 'Kapitel', 'Bürger', 'Bürgerin', 'Bürger*innen']"
   ]
  },
  {
   "cell_type": "code",
   "execution_count": 12,
   "metadata": {},
   "outputs": [],
   "source": [
    "for x in exclude:\n",
    "    for c in cs:\n",
    "        del c[x]"
   ]
  },
  {
   "cell_type": "code",
   "execution_count": 13,
   "metadata": {
    "ExecuteTime": {
     "end_time": "2019-04-28T12:11:41.424155Z",
     "start_time": "2019-04-28T12:11:41.414191Z"
    }
   },
   "outputs": [],
   "source": [
    "def proper_ranking(c):\n",
    "    res = {}\n",
    "    prev_count = -1\n",
    "    prev_rank = -1\n",
    "    for rank, pair in enumerate(c.most_common()):\n",
    "        if pair[1] != prev_count:\n",
    "            new_rank = rank\n",
    "        else:\n",
    "            new_rank: prev_rank\n",
    "        res[pair[0]] = new_rank\n",
    "        prev_rank = new_rank\n",
    "        prev_count = pair[1]\n",
    "    return res"
   ]
  },
  {
   "cell_type": "code",
   "execution_count": 14,
   "metadata": {
    "ExecuteTime": {
     "end_time": "2019-04-28T12:11:41.452855Z",
     "start_time": "2019-04-28T12:11:41.426872Z"
    }
   },
   "outputs": [],
   "source": [
    "rankings = [proper_ranking(c) for c in cs]"
   ]
  },
  {
   "cell_type": "code",
   "execution_count": 15,
   "metadata": {
    "ExecuteTime": {
     "end_time": "2019-04-28T12:11:41.504770Z",
     "start_time": "2019-04-28T12:11:41.494960Z"
    },
    "tags": []
   },
   "outputs": [],
   "source": [
    "# choose the top 20 words for each party\n",
    "s = set()\n",
    "for r in rankings:\n",
    "    for w, rank in r.items():\n",
    "        if rank < 20:\n",
    "            s.add(w)\n",
    "        else:\n",
    "            break"
   ]
  },
  {
   "cell_type": "code",
   "execution_count": 16,
   "metadata": {
    "ExecuteTime": {
     "end_time": "2019-04-28T12:11:41.526220Z",
     "start_time": "2019-04-28T12:11:41.514447Z"
    }
   },
   "outputs": [],
   "source": [
    "parties = list(input_data.keys())"
   ]
  },
  {
   "cell_type": "code",
   "execution_count": 17,
   "metadata": {},
   "outputs": [
    {
     "data": {
      "text/plain": [
       "['CDU', 'SPD', 'Linke', 'Grüne', 'FDP', 'AfD']"
      ]
     },
     "execution_count": 17,
     "metadata": {},
     "output_type": "execute_result"
    }
   ],
   "source": [
    "parties"
   ]
  },
  {
   "cell_type": "code",
   "execution_count": 18,
   "metadata": {
    "ExecuteTime": {
     "end_time": "2019-04-28T12:11:41.538327Z",
     "start_time": "2019-04-28T12:11:41.528995Z"
    }
   },
   "outputs": [],
   "source": [
    "final_words = [x for x in s if x not in exclude]"
   ]
  },
  {
   "cell_type": "code",
   "execution_count": 19,
   "metadata": {
    "ExecuteTime": {
     "end_time": "2019-04-28T12:11:41.570027Z",
     "start_time": "2019-04-28T12:11:41.540914Z"
    }
   },
   "outputs": [],
   "source": [
    "rows = []\n",
    "for w in final_words:\n",
    "    for p_idx, r in enumerate(rankings):\n",
    "        value = -1\n",
    "        if w in r:\n",
    "            value = r[w]\n",
    "        rows.append({'value': value, 'word': w, 'party': parties[p_idx]})\n",
    "df = pd.DataFrame(rows)"
   ]
  },
  {
   "cell_type": "code",
   "execution_count": 20,
   "metadata": {
    "ExecuteTime": {
     "end_time": "2019-04-28T12:11:41.587743Z",
     "start_time": "2019-04-28T12:11:41.572787Z"
    }
   },
   "outputs": [],
   "source": [
    "df.to_csv('data.csv', index=False)"
   ]
  },
  {
   "cell_type": "code",
   "execution_count": 21,
   "metadata": {
    "ExecuteTime": {
     "end_time": "2019-04-28T12:11:41.622612Z",
     "start_time": "2019-04-28T12:11:41.591266Z"
    }
   },
   "outputs": [
    {
     "data": {
      "text/html": [
       "<div>\n",
       "<style scoped>\n",
       "    .dataframe tbody tr th:only-of-type {\n",
       "        vertical-align: middle;\n",
       "    }\n",
       "\n",
       "    .dataframe tbody tr th {\n",
       "        vertical-align: top;\n",
       "    }\n",
       "\n",
       "    .dataframe thead th {\n",
       "        text-align: right;\n",
       "    }\n",
       "</style>\n",
       "<table border=\"1\" class=\"dataframe\">\n",
       "  <thead>\n",
       "    <tr style=\"text-align: right;\">\n",
       "      <th></th>\n",
       "      <th>value</th>\n",
       "      <th>word</th>\n",
       "      <th>party</th>\n",
       "    </tr>\n",
       "  </thead>\n",
       "  <tbody>\n",
       "    <tr>\n",
       "      <th>0</th>\n",
       "      <td>56</td>\n",
       "      <td>Arbeit</td>\n",
       "      <td>CDU</td>\n",
       "    </tr>\n",
       "    <tr>\n",
       "      <th>1</th>\n",
       "      <td>5</td>\n",
       "      <td>Arbeit</td>\n",
       "      <td>SPD</td>\n",
       "    </tr>\n",
       "    <tr>\n",
       "      <th>2</th>\n",
       "      <td>4</td>\n",
       "      <td>Arbeit</td>\n",
       "      <td>Linke</td>\n",
       "    </tr>\n",
       "    <tr>\n",
       "      <th>3</th>\n",
       "      <td>16</td>\n",
       "      <td>Arbeit</td>\n",
       "      <td>Grüne</td>\n",
       "    </tr>\n",
       "    <tr>\n",
       "      <th>4</th>\n",
       "      <td>27</td>\n",
       "      <td>Arbeit</td>\n",
       "      <td>FDP</td>\n",
       "    </tr>\n",
       "    <tr>\n",
       "      <th>...</th>\n",
       "      <td>...</td>\n",
       "      <td>...</td>\n",
       "      <td>...</td>\n",
       "    </tr>\n",
       "    <tr>\n",
       "      <th>313</th>\n",
       "      <td>22</td>\n",
       "      <td>Bildung</td>\n",
       "      <td>SPD</td>\n",
       "    </tr>\n",
       "    <tr>\n",
       "      <th>314</th>\n",
       "      <td>13</td>\n",
       "      <td>Bildung</td>\n",
       "      <td>Linke</td>\n",
       "    </tr>\n",
       "    <tr>\n",
       "      <th>315</th>\n",
       "      <td>21</td>\n",
       "      <td>Bildung</td>\n",
       "      <td>Grüne</td>\n",
       "    </tr>\n",
       "    <tr>\n",
       "      <th>316</th>\n",
       "      <td>8</td>\n",
       "      <td>Bildung</td>\n",
       "      <td>FDP</td>\n",
       "    </tr>\n",
       "    <tr>\n",
       "      <th>317</th>\n",
       "      <td>31</td>\n",
       "      <td>Bildung</td>\n",
       "      <td>AfD</td>\n",
       "    </tr>\n",
       "  </tbody>\n",
       "</table>\n",
       "<p>318 rows × 3 columns</p>\n",
       "</div>"
      ],
      "text/plain": [
       "     value     word  party\n",
       "0       56   Arbeit    CDU\n",
       "1        5   Arbeit    SPD\n",
       "2        4   Arbeit  Linke\n",
       "3       16   Arbeit  Grüne\n",
       "4       27   Arbeit    FDP\n",
       "..     ...      ...    ...\n",
       "313     22  Bildung    SPD\n",
       "314     13  Bildung  Linke\n",
       "315     21  Bildung  Grüne\n",
       "316      8  Bildung    FDP\n",
       "317     31  Bildung    AfD\n",
       "\n",
       "[318 rows x 3 columns]"
      ]
     },
     "execution_count": 21,
     "metadata": {},
     "output_type": "execute_result"
    }
   ],
   "source": [
    "df"
   ]
  },
  {
   "cell_type": "code",
   "execution_count": 22,
   "metadata": {
    "ExecuteTime": {
     "end_time": "2019-04-28T12:11:41.633356Z",
     "start_time": "2019-04-28T12:11:41.626279Z"
    }
   },
   "outputs": [],
   "source": [
    "df_comp = df\n",
    "df_comp['value'] = df_comp['value'].apply(lambda x: 2000 if x == -1 else x)"
   ]
  },
  {
   "cell_type": "code",
   "execution_count": 23,
   "metadata": {
    "ExecuteTime": {
     "end_time": "2019-04-28T12:11:41.659903Z",
     "start_time": "2019-04-28T12:11:41.638394Z"
    }
   },
   "outputs": [
    {
     "data": {
      "text/html": [
       "<div>\n",
       "<style scoped>\n",
       "    .dataframe tbody tr th:only-of-type {\n",
       "        vertical-align: middle;\n",
       "    }\n",
       "\n",
       "    .dataframe tbody tr th {\n",
       "        vertical-align: top;\n",
       "    }\n",
       "\n",
       "    .dataframe thead th {\n",
       "        text-align: right;\n",
       "    }\n",
       "</style>\n",
       "<table border=\"1\" class=\"dataframe\">\n",
       "  <thead>\n",
       "    <tr style=\"text-align: right;\">\n",
       "      <th></th>\n",
       "      <th>value</th>\n",
       "      <th>word</th>\n",
       "      <th>party</th>\n",
       "    </tr>\n",
       "  </thead>\n",
       "  <tbody>\n",
       "    <tr>\n",
       "      <th>0</th>\n",
       "      <td>56</td>\n",
       "      <td>Arbeit</td>\n",
       "      <td>CDU</td>\n",
       "    </tr>\n",
       "    <tr>\n",
       "      <th>1</th>\n",
       "      <td>5</td>\n",
       "      <td>Arbeit</td>\n",
       "      <td>SPD</td>\n",
       "    </tr>\n",
       "    <tr>\n",
       "      <th>2</th>\n",
       "      <td>4</td>\n",
       "      <td>Arbeit</td>\n",
       "      <td>Linke</td>\n",
       "    </tr>\n",
       "    <tr>\n",
       "      <th>3</th>\n",
       "      <td>16</td>\n",
       "      <td>Arbeit</td>\n",
       "      <td>Grüne</td>\n",
       "    </tr>\n",
       "    <tr>\n",
       "      <th>4</th>\n",
       "      <td>27</td>\n",
       "      <td>Arbeit</td>\n",
       "      <td>FDP</td>\n",
       "    </tr>\n",
       "    <tr>\n",
       "      <th>...</th>\n",
       "      <td>...</td>\n",
       "      <td>...</td>\n",
       "      <td>...</td>\n",
       "    </tr>\n",
       "    <tr>\n",
       "      <th>313</th>\n",
       "      <td>22</td>\n",
       "      <td>Bildung</td>\n",
       "      <td>SPD</td>\n",
       "    </tr>\n",
       "    <tr>\n",
       "      <th>314</th>\n",
       "      <td>13</td>\n",
       "      <td>Bildung</td>\n",
       "      <td>Linke</td>\n",
       "    </tr>\n",
       "    <tr>\n",
       "      <th>315</th>\n",
       "      <td>21</td>\n",
       "      <td>Bildung</td>\n",
       "      <td>Grüne</td>\n",
       "    </tr>\n",
       "    <tr>\n",
       "      <th>316</th>\n",
       "      <td>8</td>\n",
       "      <td>Bildung</td>\n",
       "      <td>FDP</td>\n",
       "    </tr>\n",
       "    <tr>\n",
       "      <th>317</th>\n",
       "      <td>31</td>\n",
       "      <td>Bildung</td>\n",
       "      <td>AfD</td>\n",
       "    </tr>\n",
       "  </tbody>\n",
       "</table>\n",
       "<p>318 rows × 3 columns</p>\n",
       "</div>"
      ],
      "text/plain": [
       "     value     word  party\n",
       "0       56   Arbeit    CDU\n",
       "1        5   Arbeit    SPD\n",
       "2        4   Arbeit  Linke\n",
       "3       16   Arbeit  Grüne\n",
       "4       27   Arbeit    FDP\n",
       "..     ...      ...    ...\n",
       "313     22  Bildung    SPD\n",
       "314     13  Bildung  Linke\n",
       "315     21  Bildung  Grüne\n",
       "316      8  Bildung    FDP\n",
       "317     31  Bildung    AfD\n",
       "\n",
       "[318 rows x 3 columns]"
      ]
     },
     "execution_count": 23,
     "metadata": {},
     "output_type": "execute_result"
    }
   ],
   "source": [
    "df_comp"
   ]
  },
  {
   "cell_type": "code",
   "execution_count": 24,
   "metadata": {
    "ExecuteTime": {
     "end_time": "2019-04-28T12:11:41.718551Z",
     "start_time": "2019-04-28T12:11:41.661369Z"
    }
   },
   "outputs": [],
   "source": [
    "w_c = [[df_comp[df_comp['word'] == w]['value'].sum(), w] for w in final_words]"
   ]
  },
  {
   "cell_type": "code",
   "execution_count": 25,
   "metadata": {
    "ExecuteTime": {
     "end_time": "2019-04-28T12:11:41.726468Z",
     "start_time": "2019-04-28T12:11:41.719702Z"
    }
   },
   "outputs": [
    {
     "name": "stdout",
     "output_type": "stream",
     "text": [
      "Volk\", \"Respekt\", \"Abschaffung\", \"Wettbewerb\", \"Sprache\", \"Innovation\", \"Identität\", \"Deutschlands\", \"Prozent\", \"Landwirtschaft\", \"Chance\", \"Beschäftigte\", \"Freiheit\", \"Zusammenarbeit\", \"Eltern\", \"Beispiel\", \"Zugang\", \"Einkommen\", \"Welt\", \"Maßnahme\", \"Ausbau\", \"Politik\", \"Rahmen\", \"Demokratie\", \"Euro\", \"Kommune\", \"Bereich\", \"Förderung\", \"Arbeit\", \"Zukunft\", \"Möglichkeit\", \"Schule\", \"Familie\", \"Schutz\", \"Bund\", \"Sicherheit\", \"Leben\", \"Frau\", \"Entwicklung\", \"Wirtschaft\", \"Recht\", \"Bildung\", \"Europa\", \"EU\", \"Staat\", \"Gesellschaft\", \"Ziel\", \"Unternehmen\", \"Jahr\", \"Kind\", \"Land\", \"Deutschland\", \"Mensch\n"
     ]
    }
   ],
   "source": [
    "print('\", \"'.join([x[1] for x in sorted(w_c, key=lambda x: x[0], reverse=True)]))"
   ]
  },
  {
   "cell_type": "code",
   "execution_count": null,
   "metadata": {},
   "outputs": [],
   "source": []
  },
  {
   "cell_type": "code",
   "execution_count": null,
   "metadata": {},
   "outputs": [],
   "source": []
  },
  {
   "cell_type": "code",
   "execution_count": null,
   "metadata": {},
   "outputs": [],
   "source": []
  },
  {
   "cell_type": "code",
   "execution_count": null,
   "metadata": {},
   "outputs": [],
   "source": []
  },
  {
   "cell_type": "code",
   "execution_count": null,
   "metadata": {},
   "outputs": [],
   "source": []
  }
 ],
 "metadata": {
  "kernelspec": {
   "display_name": "Python 3",
   "language": "python",
   "name": "python3"
  },
  "language_info": {
   "codemirror_mode": {
    "name": "ipython",
    "version": 3
   },
   "file_extension": ".py",
   "mimetype": "text/x-python",
   "name": "python",
   "nbconvert_exporter": "python",
   "pygments_lexer": "ipython3",
   "version": "3.6.9"
  },
  "toc": {
   "base_numbering": 1,
   "nav_menu": {},
   "number_sections": true,
   "sideBar": true,
   "skip_h1_title": false,
   "title_cell": "Table of Contents",
   "title_sidebar": "Contents",
   "toc_cell": false,
   "toc_position": {},
   "toc_section_display": true,
   "toc_window_display": false
  }
 },
 "nbformat": 4,
 "nbformat_minor": 4
}
